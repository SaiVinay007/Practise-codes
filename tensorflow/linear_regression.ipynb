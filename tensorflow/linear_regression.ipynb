{
 "cells": [
  {
   "cell_type": "code",
   "execution_count": 2,
   "metadata": {},
   "outputs": [],
   "source": [
    "import tensorflow as tf\n",
    "import numpy as np\n",
    "from matplotlib import pyplot as plt\n",
    "rng = np.random"
   ]
  },
  {
   "cell_type": "code",
   "execution_count": 3,
   "metadata": {},
   "outputs": [],
   "source": [
    "# parameters\n",
    "learning_rate = 0.01\n",
    "training_epochs = 1000\n",
    "display_step = 50\n"
   ]
  },
  {
   "cell_type": "code",
   "execution_count": 4,
   "metadata": {},
   "outputs": [],
   "source": [
    "# training data\n",
    "train_X = np.asarray([3.3,4.4,5.5,6.71,6.93,4.168,9.779,6.182,7.59,2.167,\n",
    "                         7.042,10.791,5.313,7.997,5.654,9.27,3.1])\n",
    "train_Y = np.asarray([1.7,2.76,2.09,3.19,1.694,1.573,3.366,2.596,2.53,1.221,\n",
    "                         2.827,3.465,1.65,2.904,2.42,2.94,1.3])\n",
    "n_samples = train_X.shape[0]"
   ]
  },
  {
   "cell_type": "code",
   "execution_count": 5,
   "metadata": {},
   "outputs": [],
   "source": [
    "# tf graph input\n",
    "X = tf.placeholder(\"float\")\n",
    "Y = tf.placeholder(\"float\")\n",
    "\n",
    "# set model weights\n",
    "W = tf.Variable(rng.randn(),name = \"weigths\")\n",
    "b = tf.Variable(rng.randn(),name = \"bias\")"
   ]
  },
  {
   "cell_type": "code",
   "execution_count": 6,
   "metadata": {},
   "outputs": [],
   "source": [
    "# construct a linear model\n",
    "pred = tf.add(tf.multiply(W,X),b)\n"
   ]
  },
  {
   "cell_type": "code",
   "execution_count": 7,
   "metadata": {},
   "outputs": [],
   "source": [
    "# mean square error\n",
    "cost = tf.reduce_sum(tf.pow(pred-Y,2))/(2*n_samples)\n",
    "\n",
    "# gradient descent\n",
    "optimizer = tf.train.GradientDescentOptimizer(learning_rate).minimize(cost)"
   ]
  },
  {
   "cell_type": "code",
   "execution_count": 11,
   "metadata": {},
   "outputs": [],
   "source": [
    "# initialize variables (i.e, assign their default value)\n",
    "init = tf.global_variables_initializer()"
   ]
  },
  {
   "cell_type": "code",
   "execution_count": 13,
   "metadata": {},
   "outputs": [
    {
     "name": "stdout",
     "output_type": "stream",
     "text": [
      "Epoch: 0050 cost= 0.139957309 W= 0.38996089 b= -0.20832597\n",
      "Epoch: 0100 cost= 0.132678434 W= 0.38161263 b= -0.14826886\n",
      "Epoch: 0150 cost= 0.126240447 W= 0.3737608 b= -0.09178371\n",
      "Epoch: 0200 cost= 0.120546035 W= 0.36637598 b= -0.03865783\n",
      "Epoch: 0250 cost= 0.115509473 W= 0.35943046 b= 0.01130831\n",
      "Epoch: 0300 cost= 0.111054778 W= 0.35289785 b= 0.058302816\n",
      "Epoch: 0350 cost= 0.107114770 W= 0.3467539 b= 0.102502264\n",
      "Epoch: 0400 cost= 0.103629954 W= 0.3409753 b= 0.14407311\n",
      "Epoch: 0450 cost= 0.100547835 W= 0.3355403 b= 0.18317169\n",
      "Epoch: 0500 cost= 0.097821862 W= 0.33042863 b= 0.21994478\n",
      "Epoch: 0550 cost= 0.095410943 W= 0.32562104 b= 0.25453064\n",
      "Epoch: 0600 cost= 0.093278699 W= 0.32109937 b= 0.28705928\n",
      "Epoch: 0650 cost= 0.091392882 W= 0.3168464 b= 0.31765395\n",
      "Epoch: 0700 cost= 0.089725100 W= 0.31284666 b= 0.34642836\n",
      "Epoch: 0750 cost= 0.088250123 W= 0.30908474 b= 0.3734916\n",
      "Epoch: 0800 cost= 0.086945638 W= 0.30554637 b= 0.39894614\n",
      "Epoch: 0850 cost= 0.085792080 W= 0.30221862 b= 0.42288566\n",
      "Epoch: 0900 cost= 0.084771894 W= 0.29908884 b= 0.44540152\n",
      "Epoch: 0950 cost= 0.083869718 W= 0.29614502 b= 0.46657875\n",
      "Epoch: 1000 cost= 0.083071917 W= 0.2933764 b= 0.48649615\n",
      "Optimization finished!\n",
      "Training cost= 0.08307192 W= 0.2933764 b= 0.48649615 \n",
      "\n"
     ]
    },
    {
     "data": {
      "image/png": "[encoded data removed]",
      "text/plain": [
       "<Figure size 432x288 with 1 Axes>"
      ]
     },
     "metadata": {},
     "output_type": "display_data"
    }
   ],
   "source": [
    "# start training \n",
    "\n",
    "with tf.Session() as sess:\n",
    "    sess.run(init)\n",
    "    \n",
    "    # fit all training data\n",
    "    for epoch in range(training_epochs):\n",
    "        # The purpose of zip() is to map the similar index of multiple containers so that they can \n",
    "        # be used just using as single entity. \n",
    "        for (x,y) in zip(train_X,train_Y):\n",
    "            sess.run(optimizer,feed_dict={X:x,Y:y})\n",
    "            \n",
    "        # display logs per each epoch\n",
    "        \n",
    "        if (epoch+1)%display_step == 0 :\n",
    "            c = sess.run(cost,feed_dict={X:train_X,Y:train_Y})\n",
    "            print(\"Epoch:\", '%04d' % (epoch+1), \"cost=\", \"{:.9f}\".format(c), \\\n",
    "                \"W=\", sess.run(W), \"b=\", sess.run(b))\n",
    "            \n",
    "            \n",
    "    print(\"Optimization finished!\")\n",
    "    training_cost = sess.run(cost,feed_dict={X:train_X,Y:train_Y})\n",
    "    print(\"Training cost=\", training_cost, \"W=\", sess.run(W), \"b=\", sess.run(b), '\\n')\n",
    "    \n",
    "    \n",
    "    # graphic display\n",
    "    plt.plot(train_X,train_Y,\"ro\",label='Original data')\n",
    "    plt.plot(train_X,sess.run(W)*train_X+sess.run(b),label='Fitted Line')\n",
    "    plt.legend()\n",
    "    plt.show()"
   ]
  },
  {
   "cell_type": "code",
   "execution_count": null,
   "metadata": {},
   "outputs": [],
   "source": []
  }
 ],
 "metadata": {
  "kernelspec": {
   "display_name": "Python 3",
   "language": "python",
   "name": "python3"
  },
  "language_info": {
   "codemirror_mode": {
    "name": "ipython",
    "version": 3
   },
   "file_extension": ".py",
   "mimetype": "text/x-python",
   "name": "python",
   "nbconvert_exporter": "python",
   "pygments_lexer": "ipython3",
   "version": "3.5.2"
  }
 },
 "nbformat": 4,
 "nbformat_minor": 2
}
