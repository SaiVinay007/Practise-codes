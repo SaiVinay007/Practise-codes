{
 "cells": [
  {
   "cell_type": "markdown",
   "metadata": {},
   "source": [
    "# Principal Component Analysis\n",
    "\n",
    "   Principal component analysis (PCA) has been called one of the most valuable results from applied linear algebra.It is used to reduce a large set of variables to a small set that still contains most of the information in the large set.\n",
    "\n",
    "   It is a mathematical procedure that transforms a number of (possibly) correlated variables into a (smaller) number of uncorrelated variables called principal components.The first principal component accounts for as much of the variability in the data as possible, and each succeeding component accounts for as much of the remaining variability as possible.\n",
    "\n",
    "### So how to perform pca on given dataset?\n",
    "- Get some data\n",
    "- Substract the mean\n",
    "- Calculate the covariance matrix for the data\n",
    "- Calculate the eigen vectors and eigen values of covariance matrix\n",
    "- Choosing components and forming a feature vector\n",
    "- Deriving the new data set\n",
    "\n",
    "Consider our data set consists of n variables and m samples.This can be as a mxn matrix,\n",
    "\n",
    "\\begin{equation}\n",
    "\\begin{bmatrix}\n",
    "    x_{11} & x_{12} & x_{13} & \\dots  & x_{1m} \\\\\n",
    "    x_{21} & x_{22} & x_{23} & \\dots  & x_{2m} \\\\\n",
    "    \\vdots & \\vdots & \\vdots & \\ddots & \\vdots \\\\\n",
    "    x_{n1} & x_{n2} & x_{n3} & \\dots  & x_{nm}\n",
    "\\end{bmatrix}=\n",
    "\\begin{bmatrix}\n",
    "    X1 \\\\\n",
    "    X2 \\\\\n",
    "    \\vdots \\\\\n",
    "    Xn\n",
    "\\end{bmatrix}    \n",
    "\\end{equation}\n",
    "\n",
    "\n",
    "\n",
    "  For PCA to work properly you have to subtract the mean from each of the data dimensions.The mean subtracted is the ave rage across each dimension.So, all the X1 values have  $\\overline{X1}$(the mean of the x values of all the data points)substracted ,all the X2 values have $\\overline{X2}$ substracted from them,similarly for all .\n",
    "\n",
    "\n",
    "**Covariance** is a measure of the extent to which corresponding elements from two sets of ordered data move in the same direction. We use the following formula to compute covariance.\n",
    "\n",
    "\\begin{equation}\n",
    "Cov(X, Y) = \\sum^{m}_{i=1} \\dfrac{ ( X_i - \\overline{X} ) ( Y_i - \\overline{Y} )} { m} = \\sum^{m}_{i=1} \\dfrac{ X_i \\times Y_i }{ m  }\n",
    "\\end{equation}      \n",
    "\n",
    "**Covariance matrix** :\n",
    "The variances appear along the diagonal and covariances appear in the off-diagonal elements.\n",
    "\n",
    "\n",
    "\\begin{equation}\n",
    "v=\n",
    "\\begin{bmatrix}\n",
    "    Cov(X1,X2) & Cov(X1,X2) & Cov(X1,X3) & \\dots  & Cov(X1,Xn) \\\\\n",
    "    Cov(X2,X1) & Cov(X2,X2) & Cov(X2,X3) & \\dots  & Cov(X2,Xn) \\\\\n",
    "    \\vdots & \\vdots & \\vdots & \\ddots & \\vdots \\\\\n",
    "    Cov(Xn,X1) & Cov(Xn,X2) & Cov(Xn,X3) & \\dots  & Cov(Xn,Xn)\n",
    "\\end{bmatrix}\n",
    "\\end{equation}\n",
    "\n",
    "\n",
    "**Eigen values and Eigen vectors**:\n",
    "  Eigen vector of a matrix A is a vector represented by a matrix X such that when X is multiplied with matrix A, then the direction of the resultant matrix remains same as vector X.\n",
    "\n",
    "Mathematically, above statement can be represented as:\n",
    "\\begin{equation}\n",
    "AX = \n",
    "λX \n",
    "\\end{equation\n",
    "\n",
    "- Method to find eigen vectors and eigen values of any square matrix A.We know that,\n",
    "\n",
    "                    AX = λX\n",
    "\n",
    "                => AX – λX = 0\n",
    "\n",
    "                 => (A – λI) X = 0 ....(1)\n",
    "\n",
    " Above condition will be true only if (A – λI) is singular. That means,\n",
    "\n",
    "                       |A – λI| = 0 ....(2)\n",
    "\n",
    " (2) is known as characteristic equation of the matrix.\n",
    "\n",
    " The roots of the characteristic equation are the eigen values of the matrix A.\n",
    "\n",
    " Now, to find the eigen vectors, we simply put each eigen value into (1) and solve it by Gaussian elimination, that is, convert the augmented matrix (A – λI) = 0 to row echelon form and solve the linear system of equations thus obtained.\n",
    " \n",
    "**Components and FeatureVector**:\n",
    "Here is where the notion of data compression and reduced dimensionality comes in.The eigenvectors have unit norm but have different eigenvalues.\n",
    "In fact, it turns out that the eigenvectors having higher eigenvalues are the principal directions of our data set.The highest eigenvalue corresponds to the first principal component and the second highest corresponds to second principal component and so on.\n",
    "\n",
    "If we want to reduce our dataset to K dimensions(initially n(>k) dimensions) we select the first K eigenvectors,which are arranged in decreasing order with respect to corresponding eigen values,which is our feature vector.\n",
    "\\begin{equation}\n",
    "    FeatureVector = (eig_1,eig_2,....,eig_k)\n",
    "\\end{equation}\n",
    " \n",
    "**New Dataset**:\n",
    "This is the final step of pca.So after obtaining featurevector, we project original data along the principal components.\n",
    "This can be done by just multipliying our original matrix with feature vector.\n",
    "\n",
    "\\begin{equation}\n",
    "FinalData = OriginalData(after \\ substracting \\ mean)\\times FeatureVector\n",
    "\\end{equation}\n",
    "\n",
    "\n",
    "\n",
    "\n",
    "\n",
    "\n",
    "\n",
    "\n",
    "\n",
    "\n",
    "\n",
    "\n",
    "\n",
    "\n",
    "\n",
    "\n",
    "\n",
    " \n"
   ]
  },
  {
   "cell_type": "markdown",
   "metadata": {},
   "source": [
    "### Why do we get principal components from eigenvectors of covariance matrix\n",
    "\n",
    "- we need to find the direction of maximum variance for obtaining principal components.\n",
    "\n",
    "Let suppose we have 3 data points in space $x_1$,$x_2$,$x_3$.Now we want to find a vector e(unit norm) ,such that: it is the direction of maximum variance.So for calculating variance we project the datapoints onto the vector e(projection implies dot product of $x_i$ with e).\n",
    "\n",
    "The variance of data points is\n",
    "\n",
    "\\begin{equation}\n",
    "variance \\ of \\ projections = \\dfrac{1}{n}\\sum^{n}_{i=1}\\Bigg(\\sum^{d}_{j=1}x_{ij} \\ e_{j}-\\mu \\Bigg)^2 = \\dfrac{1}{n}\\sum^{n}_{i=1}\\Bigg(\\sum^{d}_{j=1}x_{ij} \\ e_{j}\\Bigg)^2 \\ (when \\ mean \\ is \\ zero)\n",
    "\\end{equation}\n",
    "\n",
    "Now we have to maximize variance of projections.We add lagrange multiplier(for optimization, to the above equation).As we are constrained to the fact that e is of unit norm $\\big(\\sum^d_{j=1}e_j^2=1 \\big)$.\n",
    "\n",
    "\n",
    "\\begin{equation}\n",
    "V  = \\dfrac{1}{n}\\sum^{n}_{i=1}\\Bigg(\\sum^{d}_{j=1}x_{ij} \\ e_{j}\\Bigg)^2 \\ - \\lambda \\Bigg(\\Bigg(\\sum^d_{j=1}e_j^2\\Bigg)-1 \\Bigg)\n",
    "\\end{equation}\n",
    "\n",
    "Now differentiate V wrt components of e and equate then to zero.\n",
    "\n",
    "\\begin{equation}\n",
    "\\frac{\\partial V}{\\partial e_k}= \\dfrac{2}{n} \\sum^{n}_{i=1}\\Bigg(\\sum^{d}_{j=1}x_{ij} \\ e_{j}\\Bigg)x_{ik} - 2\\lambda e_{k} = 0\n",
    "\\end{equation}\n",
    " \n",
    " It implies\n",
    "\n",
    "\\begin{equation}\n",
    "\\sum^{d}_{j=1}e_{j}\\underbrace{\\Bigg( \\dfrac{1}{n}\\Bigg(\\sum^{n}_{i=1} x_{ik} \\ x_{ij}\\Bigg)\\Bigg)}_\\text{covariance of \n",
    "Xk,Xj} = \\lambda e_{k}\n",
    "\\end{equation}\n",
    "\n",
    "Holds for all k=1,2,3,...d\n",
    "\n",
    "- It implies that we are taking dot product of matrix with cov(Xi,Xj) as its elements, with column vector e.\n",
    "\n",
    "It is of the form :\n",
    "\n",
    "\\begin{equation}\n",
    "Ax=\\lambda x\n",
    "\\end{equation}\n",
    "\n",
    "Where A is the covariance matrix and x is the direction of maximum variance. \n",
    "\n",
    "#### So by maximizing the variance, we got the conditon that the eigenvectors of covariance matrix represent the direction of maximum variance.\n",
    "\n",
    "\n",
    "\n",
    "\n",
    "\n",
    "\n",
    "\n"
   ]
  },
  {
   "cell_type": "code",
   "execution_count": 56,
   "metadata": {},
   "outputs": [],
   "source": [
    "import numpy as np\n",
    "import pandas as pd\n",
    "import sklearn\n",
    "import matplotlib.pyplot as plt\n",
    "from mpl_toolkits import mplot3d-"
   ]
  },
  {
   "cell_type": "code",
   "execution_count": 70,
   "metadata": {},
   "outputs": [],
   "source": [
    "def Reduced_data_set(dataset,final_dimension, plot = False):\n",
    "    # Centering all the features to zero mean    \n",
    "    Mean_of_data=dataset.mean(0)\n",
    "    centered_data=dataset-Mean_of_data\n",
    "    \n",
    "    # Calculating the Covariance Matrix\n",
    "    covariance_matrix=np.cov(centered_data.T)\n",
    "    \n",
    "    # Computing the eigenvalues and eigenvectors of the Covariance Matrix \n",
    "    eigen_values,eigen_vectors=np.linalg.eig(covariance_matrix)\n",
    "    \n",
    "    # Sorting the eigenvalues from largest to smallest\n",
    "    idx = eigen_values.argsort()[::-1]\n",
    "    eigen_values = eigen_values[idx]\n",
    "    eigen_vectors = eigen_vectors[:,idx]\n",
    "    \n",
    "    # Projecting the dataset on the final_dimension eigenvectors (selected based on higher eigenvalue)\n",
    "    reduced=np.matmul(centered_data,eigen_vectors[:,:final_dimension],out=None)\n",
    "    \n",
    "    # If plotting the eigenvector of the covariance matrix and mean centered data is asked\n",
    "    if plot:\n",
    "      plt.title(\"Mean Centered Data and the EigenVectors of Covariance Matrix (Scaled by EigenValue)\")\n",
    "      plt.plot(centered_data[:,0][:50], centered_data[:,1][:50], 'ro', label = ' Data A')\n",
    "      plt.plot(centered_data[:,0][50:], centered_data[:,1][50:], 'go', label = ' Data B')\n",
    "      plt.quiver([0,0], [0,0], *eigen_values*(eigen_vectors), label = 'Eigen Vectors of Covariance Matrix',angles='xy', scale_units='xy', scale = 2.5)\n",
    "      plt.legend(loc = 'best')\n",
    "      \n",
    "    return reduced"
   ]
  },
  {
   "cell_type": "code",
   "execution_count": 71,
   "metadata": {},
   "outputs": [],
   "source": [
    "def create_dataset(m = 2, c = 0.5, no_points = 100, std = 0.01):\n",
    "  x = np.linspace(0, 5, no_points)\n",
    "  noise = np.random.randn(no_points)*std\n",
    "  y = m*x + c + noise\n",
    "  return (np.c_[x, y])"
   ]
  },
  {
   "cell_type": "code",
   "execution_count": 72,
   "metadata": {},
   "outputs": [],
   "source": [
    "x= create_dataset(c = 2, std = 0.5)[:,0]\n",
    "y=create_dataset(c = 2, std = 0.5)[:,1]\n",
    "\n",
    "dataset=np.column_stack((x,y))\n",
    "x1=x[0:50]\n",
    "x2=x[50:]\n",
    "y1=y[0:50]\n",
    "y2=y[50:]"
   ]
  },
  {
   "cell_type": "code",
   "execution_count": 73,
   "metadata": {},
   "outputs": [
    {
     "data": {
      "image/png": "[encoded data removed]",
      "text/plain": [
       "<matplotlib.figure.Figure at 0x7f80ec6950f0>"
      ]
     },
     "metadata": {},
     "output_type": "display_data"
    },
    {
     "name": "stdout",
     "output_type": "stream",
     "text": [
      "(100,)\n"
     ]
    }
   ],
   "source": [
    "plt.plot(x1, y1, 'ro')\n",
    "plt.plot(x2, y2, 'go')\n",
    "plt.show()\n",
    "print(x.shape)"
   ]
  },
  {
   "cell_type": "code",
   "execution_count": 74,
   "metadata": {},
   "outputs": [
    {
     "data": {
      "image/png": "[encoded data removed]",
      "text/plain": [
       "<matplotlib.figure.Figure at 0x7f80ec695668>"
      ]
     },
     "metadata": {},
     "output_type": "display_data"
    }
   ],
   "source": [
    "var = Reduced_data_set(dataset,1, True)"
   ]
  },
  {
   "cell_type": "code",
   "execution_count": 75,
   "metadata": {},
   "outputs": [
    {
     "name": "stdout",
     "output_type": "stream",
     "text": [
      "(50, 1)\n"
     ]
    }
   ],
   "source": [
    "x3=var[0:50]\n",
    "x4=var[50:]\n",
    "y3=np.zeros(50)\n",
    "y4=np.zeros(50)\n",
    "print (x3.shape)"
   ]
  },
  {
   "cell_type": "code",
   "execution_count": 64,
   "metadata": {},
   "outputs": [
    {
     "name": "stdout",
     "output_type": "stream",
     "text": [
      "(50, 1)\n"
     ]
    },
    {
     "data": {
      "image/png": "[encoded data removed]",
      "text/plain": [
       "<matplotlib.figure.Figure at 0x7f80ec712390>"
      ]
     },
     "metadata": {},
     "output_type": "display_data"
    }
   ],
   "source": [
    "# fig = plt.figure(figsize=(30,10))\n",
    "print (x3.shape)\n",
    "plt.plot(x3,y4,'ro')\n",
    "plt.plot(x4,y4,'go')\n",
    "plt.show()"
   ]
  },
  {
   "cell_type": "code",
   "execution_count": null,
   "metadata": {},
   "outputs": [],
   "source": []
  }
 ],
 "metadata": {
  "anaconda-cloud": {},
  "kernelspec": {
   "display_name": "Python 3",
   "language": "python",
   "name": "python3"
  },
  "language_info": {
   "codemirror_mode": {
    "name": "ipython",
    "version": 3
   },
   "file_extension": ".py",
   "mimetype": "text/x-python",
   "name": "python",
   "nbconvert_exporter": "python",
   "pygments_lexer": "ipython3",
   "version": "3.5.2"
  }
 },
 "nbformat": 4,
 "nbformat_minor": 2
}
